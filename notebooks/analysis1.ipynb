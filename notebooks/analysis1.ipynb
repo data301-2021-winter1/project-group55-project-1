{
 "cells": [
  {
   "cell_type": "markdown",
   "metadata": {},
   "source": [
    "# Adam Shippit"
   ]
  },
  {
   "cell_type": "markdown",
   "metadata": {},
   "source": [
    "## Research Questions\n",
    "\n",
    "What years are the most hunted?\n",
    "What was the proportion of female bears killed to male?\n",
    "What ages were they killed?\n",
    "Using Grizzly bear repopulation numbers, what would the population be now?\n",
    "What effect does heavily hunted years have on the population?"
   ]
  }
 ],
 "metadata": {
  "language_info": {
   "name": "plaintext"
  },
  "orig_nbformat": 4
 },
 "nbformat": 4,
 "nbformat_minor": 2
}
