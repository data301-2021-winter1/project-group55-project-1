{
 "cells": [
  {
   "cell_type": "markdown",
   "source": [
    "# Adam Shippit"
   ],
   "metadata": {}
  },
  {
   "cell_type": "markdown",
   "source": [
    "## Research Questions/interests\n",
    "\n",
    "What years are the most hunted?\n",
    "\n",
    "What was the proportion of female bears killed to male?\n",
    "What ages were they killed?\n",
    "\n",
    "Using Grizzly bear repopulation numbers, what would the population be now?\n",
    "\n",
    "What effect does heavily hunted years have on the population?"
   ],
   "metadata": {}
  }
 ],
 "metadata": {
  "language_info": {
   "name": "plaintext"
  },
  "orig_nbformat": 4
 },
 "nbformat": 4,
 "nbformat_minor": 2
}