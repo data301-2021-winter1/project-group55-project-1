{
 "cells": [
  {
   "cell_type": "markdown",
   "source": [
    "# Adam Shippit"
   ],
   "metadata": {}
  },
  {
   "cell_type": "markdown",
   "source": [
    "## Research Questions/interests\n",
    "\n",
    "What years are the most hunted?\n",
    "\n",
    "What ages were majority of grizzly bears killed at?\n",
    "What ages were they killed?\n",
    "\n",
    "What propotion of kills were illegal?\n",
    "\n",
    "Where was the most hunted areas?"
   ],
   "metadata": {}
  }
 ],
 "metadata": {
  "language_info": {
   "name": "plaintext"
  },
  "orig_nbformat": 4
 },
 "nbformat": 4,
 "nbformat_minor": 2
}
