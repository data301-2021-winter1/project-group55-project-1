{
 "cells": [
  {
   "cell_type": "markdown",
   "source": [
    "# Ty Schultz"
   ],
   "metadata": {}
  },
  {
   "cell_type": "markdown",
   "source": [
    "## Research question/interests\r\n",
    "\r\n",
    "What (MU) Management units have the highest grizzly bear mortality rate?" 
    "What is the most common kill type?" 
    "Which hunt years have the highest grizzly bear deaths?"
   ],
   "metadata": {}
  }
 ],
 "metadata": {
  "orig_nbformat": 4,
  "language_info": {
   "name": "plaintext"
  }
 },
 "nbformat": 4,
 "nbformat_minor": 2
}
