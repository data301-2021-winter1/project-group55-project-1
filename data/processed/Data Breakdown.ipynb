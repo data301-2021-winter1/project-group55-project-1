{
 "cells": [
  {
   "cell_type": "code",
   "execution_count": 15,
   "id": "a56a7817-ef2c-49f3-af57-9056e84873ef",
   "metadata": {},
   "outputs": [
    {
     "data": {
      "text/html": [
       "<div>\n",
       "<style scoped>\n",
       "    .dataframe tbody tr th:only-of-type {\n",
       "        vertical-align: middle;\n",
       "    }\n",
       "\n",
       "    .dataframe tbody tr th {\n",
       "        vertical-align: top;\n",
       "    }\n",
       "\n",
       "    .dataframe thead th {\n",
       "        text-align: right;\n",
       "    }\n",
       "</style>\n",
       "<table border=\"1\" class=\"dataframe\">\n",
       "  <thead>\n",
       "    <tr style=\"text-align: right;\">\n",
       "      <th></th>\n",
       "      <th>ID</th>\n",
       "      <th>HUNT_YEAR</th>\n",
       "      <th>MU</th>\n",
       "      <th>GBPU_ID</th>\n",
       "      <th>GBPU_NAME</th>\n",
       "      <th>KILL_CODE</th>\n",
       "      <th>SEX</th>\n",
       "      <th>AGE_CLASS</th>\n",
       "      <th>SPATIAL</th>\n",
       "    </tr>\n",
       "  </thead>\n",
       "  <tbody>\n",
       "    <tr>\n",
       "      <th>0</th>\n",
       "      <td>1</td>\n",
       "      <td>1977</td>\n",
       "      <td>740</td>\n",
       "      <td>3.0</td>\n",
       "      <td>Finlay-Ospika</td>\n",
       "      <td>Hunter Kill</td>\n",
       "      <td>M</td>\n",
       "      <td>NaN</td>\n",
       "      <td>yes</td>\n",
       "    </tr>\n",
       "    <tr>\n",
       "      <th>1</th>\n",
       "      <td>2</td>\n",
       "      <td>1977</td>\n",
       "      <td>201</td>\n",
       "      <td>43.0</td>\n",
       "      <td>North Cascades</td>\n",
       "      <td>Hunter Kill</td>\n",
       "      <td>M</td>\n",
       "      <td>5-9</td>\n",
       "      <td>yes</td>\n",
       "    </tr>\n",
       "    <tr>\n",
       "      <th>2</th>\n",
       "      <td>3</td>\n",
       "      <td>1977</td>\n",
       "      <td>719</td>\n",
       "      <td>6.0</td>\n",
       "      <td>Hart</td>\n",
       "      <td>Hunter Kill</td>\n",
       "      <td>F</td>\n",
       "      <td>NaN</td>\n",
       "      <td>no</td>\n",
       "    </tr>\n",
       "    <tr>\n",
       "      <th>3</th>\n",
       "      <td>4</td>\n",
       "      <td>1977</td>\n",
       "      <td>514</td>\n",
       "      <td>48.0</td>\n",
       "      <td>N/A - extirpated</td>\n",
       "      <td>Hunter Kill</td>\n",
       "      <td>M</td>\n",
       "      <td>0-2</td>\n",
       "      <td>yes</td>\n",
       "    </tr>\n",
       "    <tr>\n",
       "      <th>4</th>\n",
       "      <td>5</td>\n",
       "      <td>1977</td>\n",
       "      <td>314</td>\n",
       "      <td>43.0</td>\n",
       "      <td>North Cascades</td>\n",
       "      <td>Hunter Kill</td>\n",
       "      <td>M</td>\n",
       "      <td>5-9</td>\n",
       "      <td>yes</td>\n",
       "    </tr>\n",
       "    <tr>\n",
       "      <th>...</th>\n",
       "      <td>...</td>\n",
       "      <td>...</td>\n",
       "      <td>...</td>\n",
       "      <td>...</td>\n",
       "      <td>...</td>\n",
       "      <td>...</td>\n",
       "      <td>...</td>\n",
       "      <td>...</td>\n",
       "      <td>...</td>\n",
       "    </tr>\n",
       "    <tr>\n",
       "      <th>14109</th>\n",
       "      <td>14110</td>\n",
       "      <td>2017</td>\n",
       "      <td>502</td>\n",
       "      <td>16.0</td>\n",
       "      <td>Wells Gray</td>\n",
       "      <td>Animal Control</td>\n",
       "      <td>M</td>\n",
       "      <td>0-2</td>\n",
       "      <td>yes</td>\n",
       "    </tr>\n",
       "    <tr>\n",
       "      <th>14110</th>\n",
       "      <td>14111</td>\n",
       "      <td>2017</td>\n",
       "      <td>515</td>\n",
       "      <td>16.0</td>\n",
       "      <td>Wells Gray</td>\n",
       "      <td>Hunter Kill</td>\n",
       "      <td>M</td>\n",
       "      <td>NaN</td>\n",
       "      <td>yes</td>\n",
       "    </tr>\n",
       "    <tr>\n",
       "      <th>14111</th>\n",
       "      <td>14112</td>\n",
       "      <td>2017</td>\n",
       "      <td>403</td>\n",
       "      <td>45.0</td>\n",
       "      <td>Yahk</td>\n",
       "      <td>Animal Control</td>\n",
       "      <td>M</td>\n",
       "      <td>0-2</td>\n",
       "      <td>yes</td>\n",
       "    </tr>\n",
       "    <tr>\n",
       "      <th>14112</th>\n",
       "      <td>14113</td>\n",
       "      <td>2017</td>\n",
       "      <td>403</td>\n",
       "      <td>45.0</td>\n",
       "      <td>Yahk</td>\n",
       "      <td>Animal Control</td>\n",
       "      <td>M</td>\n",
       "      <td>5-9</td>\n",
       "      <td>yes</td>\n",
       "    </tr>\n",
       "    <tr>\n",
       "      <th>14113</th>\n",
       "      <td>14114</td>\n",
       "      <td>2017</td>\n",
       "      <td>404</td>\n",
       "      <td>45.0</td>\n",
       "      <td>Yahk</td>\n",
       "      <td>Road Kill*</td>\n",
       "      <td>M</td>\n",
       "      <td>NaN</td>\n",
       "      <td>yes</td>\n",
       "    </tr>\n",
       "  </tbody>\n",
       "</table>\n",
       "<p>14114 rows × 9 columns</p>\n",
       "</div>"
      ],
      "text/plain": [
       "          ID  HUNT_YEAR   MU  GBPU_ID         GBPU_NAME       KILL_CODE SEX  \\\n",
       "0          1       1977  740      3.0     Finlay-Ospika     Hunter Kill   M   \n",
       "1          2       1977  201     43.0    North Cascades     Hunter Kill   M   \n",
       "2          3       1977  719      6.0              Hart     Hunter Kill   F   \n",
       "3          4       1977  514     48.0  N/A - extirpated     Hunter Kill   M   \n",
       "4          5       1977  314     43.0    North Cascades     Hunter Kill   M   \n",
       "...      ...        ...  ...      ...               ...             ...  ..   \n",
       "14109  14110       2017  502     16.0        Wells Gray  Animal Control   M   \n",
       "14110  14111       2017  515     16.0        Wells Gray     Hunter Kill   M   \n",
       "14111  14112       2017  403     45.0              Yahk  Animal Control   M   \n",
       "14112  14113       2017  403     45.0              Yahk  Animal Control   M   \n",
       "14113  14114       2017  404     45.0              Yahk      Road Kill*   M   \n",
       "\n",
       "      AGE_CLASS SPATIAL  \n",
       "0           NaN     yes  \n",
       "1           5-9     yes  \n",
       "2           NaN      no  \n",
       "3           0-2     yes  \n",
       "4           5-9     yes  \n",
       "...         ...     ...  \n",
       "14109       0-2     yes  \n",
       "14110       NaN     yes  \n",
       "14111       0-2     yes  \n",
       "14112       5-9     yes  \n",
       "14113       NaN     yes  \n",
       "\n",
       "[14114 rows x 9 columns]"
      ]
     },
     "execution_count": 15,
     "metadata": {},
     "output_type": "execute_result"
    }
   ],
   "source": [
    "import numpy as np\n",
    "import pandas as pd\n",
    "import matplotlib.pylab as plt\n",
    "import seaborn as sns\n",
    "\n",
    "data1 = pd.read_csv('grizzlybearmortalityhistory_1976_2017.csv')\n",
    "output = pd.concat([data1])\n",
    "pd.DataFrame.from_dict(data1)"
   ]
  },
  {
   "cell_type": "code",
   "execution_count": 16,
   "id": "c1591ff6-aac5-428d-a301-6d36ab199527",
   "metadata": {
    "tags": []
   },
   "outputs": [
    {
     "data": {
      "text/plain": [
       "1        1\n",
       "9414     1\n",
       "9403     1\n",
       "9404     1\n",
       "9405     1\n",
       "        ..\n",
       "4709     1\n",
       "4710     1\n",
       "4711     1\n",
       "4712     1\n",
       "14114    1\n",
       "Name: ID, Length: 14114, dtype: int64"
      ]
     },
     "execution_count": 16,
     "metadata": {},
     "output_type": "execute_result"
    }
   ],
   "source": [
    "data1.ID\n",
    "data1[\"ID\"].value_counts()  "
   ]
  },
  {
   "cell_type": "code",
   "execution_count": 17,
   "id": "8202b8d8-6165-4665-be07-bf4927c6d20b",
   "metadata": {},
   "outputs": [
    {
     "data": {
      "text/plain": [
       "1        1\n",
       "9414     1\n",
       "9403     1\n",
       "9404     1\n",
       "9405     1\n",
       "        ..\n",
       "4709     1\n",
       "4710     1\n",
       "4711     1\n",
       "4712     1\n",
       "14114    1\n",
       "Name: ID, Length: 14114, dtype: int64"
      ]
     },
     "execution_count": 17,
     "metadata": {},
     "output_type": "execute_result"
    }
   ],
   "source": [
    "data1.HUNT_YEAR\n",
    "data1[\"ID\"].value_counts()  "
   ]
  },
  {
   "cell_type": "code",
   "execution_count": 6,
   "id": "73a60c4e-04bf-4eb0-af78-c57fca482a57",
   "metadata": {},
   "outputs": [
    {
     "data": {
      "text/plain": [
       "751    438\n",
       "626    415\n",
       "752    408\n",
       "620    341\n",
       "508    300\n",
       "      ... \n",
       "805      1\n",
       "201      1\n",
       "319      1\n",
       "219      1\n",
       "337      1\n",
       "Name: MU, Length: 179, dtype: int64"
      ]
     },
     "execution_count": 6,
     "metadata": {},
     "output_type": "execute_result"
    }
   ],
   "source": [
    "data1.MU\n",
    "data1[\"MU\"].value_counts()  "
   ]
  },
  {
   "cell_type": "code",
   "execution_count": 7,
   "id": "91eb71cd-30a6-4e77-a062-3b13e35c60cc",
   "metadata": {},
   "outputs": [
    {
     "data": {
      "text/plain": [
       "1.0     1058\n",
       "55.0     846\n",
       "3.0      637\n",
       "6.0      601\n",
       "29.0     580\n",
       "        ... \n",
       "39.0       5\n",
       "43.0       3\n",
       "44.0       1\n",
       "34.0       1\n",
       "81.0       1\n",
       "Name: GBPU_ID, Length: 62, dtype: int64"
      ]
     },
     "execution_count": 7,
     "metadata": {},
     "output_type": "execute_result"
    }
   ],
   "source": [
    "data1.GBPU_ID\n",
    "data1[\"GBPU_ID\"].value_counts()  "
   ]
  },
  {
   "cell_type": "code",
   "execution_count": 8,
   "id": "6d3c8af0-6ee8-48b8-a401-225032950aae",
   "metadata": {},
   "outputs": [
    {
     "data": {
      "text/plain": [
       "Rocky                                      1058\n",
       "Muskwa                                      846\n",
       "Finlay-Ospika                               637\n",
       "Hart                                        601\n",
       "Taku                                        572\n",
       "                                           ... \n",
       "Province                                      2\n",
       "Garibaldi-Pitt                                1\n",
       "Blackwater-West Chilcotin or Tweedsmuir       1\n",
       "Kitlope-Fiordland or Tweedsmuir               1\n",
       "Kingcome-Wakeman or Knight Blue               1\n",
       "Name: GBPU_NAME, Length: 72, dtype: int64"
      ]
     },
     "execution_count": 8,
     "metadata": {},
     "output_type": "execute_result"
    }
   ],
   "source": [
    "data1.GBPU_NAME\n",
    "data1[\"GBPU_NAME\"].value_counts()  "
   ]
  },
  {
   "cell_type": "code",
   "execution_count": 9,
   "id": "38c06b2a-f4be-411b-9871-bf4104f8139d",
   "metadata": {},
   "outputs": [
    {
     "data": {
      "text/plain": [
       "Hunter Kill             12254\n",
       "Animal Control           1343\n",
       "Illegal                   344\n",
       "Pick Up (pre-2004)*        86\n",
       "Road Kill*                 40\n",
       "Rail Kill*                 30\n",
       "Pick Up (post-2004)*       17\n",
       "Name: KILL_CODE, dtype: int64"
      ]
     },
     "execution_count": 9,
     "metadata": {},
     "output_type": "execute_result"
    }
   ],
   "source": [
    "data1.KILL_CODE\n",
    "data1[\"KILL_CODE\"].value_counts()  "
   ]
  },
  {
   "cell_type": "code",
   "execution_count": 10,
   "id": "ebf2c78e-754d-4211-94d5-e5d3dddb62eb",
   "metadata": {},
   "outputs": [
    {
     "data": {
      "text/plain": [
       "M    9082\n",
       "F    4754\n",
       "U     278\n",
       "Name: SEX, dtype: int64"
      ]
     },
     "execution_count": 10,
     "metadata": {},
     "output_type": "execute_result"
    }
   ],
   "source": [
    "data1.SEX\n",
    "data1[\"SEX\"].value_counts()  "
   ]
  },
  {
   "cell_type": "code",
   "execution_count": 11,
   "id": "0d7eac27-5f88-402b-96de-3cb7f4983ae6",
   "metadata": {},
   "outputs": [
    {
     "data": {
      "text/plain": [
       "  5-9      3908\n",
       " 3-4       3003\n",
       "  10-14    1872\n",
       "15+        1427\n",
       "0-2        1384\n",
       "Juvnl        71\n",
       "Adult        23\n",
       "Name: AGE_CLASS, dtype: int64"
      ]
     },
     "execution_count": 11,
     "metadata": {},
     "output_type": "execute_result"
    }
   ],
   "source": [
    "data1.AGE_CLASS\n",
    "data1[\"AGE_CLASS\"].value_counts()  "
   ]
  },
  {
   "cell_type": "code",
   "execution_count": 12,
   "id": "c747004f-ea8d-4653-94df-1ae4e06d019d",
   "metadata": {},
   "outputs": [
    {
     "data": {
      "text/plain": [
       "yes    13405\n",
       "no       709\n",
       "Name: SPATIAL, dtype: int64"
      ]
     },
     "execution_count": 12,
     "metadata": {},
     "output_type": "execute_result"
    }
   ],
   "source": [
    "data1.SPATIAL\n",
    "data1[\"SPATIAL\"].value_counts()  "
   ]
  }
 ],
 "metadata": {
  "kernelspec": {
   "display_name": "Python 3",
   "language": "python",
   "name": "python3"
  },
  "language_info": {
   "codemirror_mode": {
    "name": "ipython",
    "version": 3
   },
   "file_extension": ".py",
   "mimetype": "text/x-python",
   "name": "python",
   "nbconvert_exporter": "python",
   "pygments_lexer": "ipython3",
   "version": "3.9.5"
  }
 },
 "nbformat": 4,
 "nbformat_minor": 5
}
