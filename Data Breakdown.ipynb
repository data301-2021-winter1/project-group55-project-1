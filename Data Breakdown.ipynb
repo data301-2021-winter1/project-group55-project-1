{
 "cells": [
  {
   "cell_type": "code",
   "execution_count": 1,
   "id": "a56a7817-ef2c-49f3-af57-9056e84873ef",
   "metadata": {},
   "outputs": [],
   "source": [
    "import pandas as pd\n"
   ]
  },
  {
   "cell_type": "code",
   "execution_count": 22,
   "id": "2a365d5b-b8b9-4555-8ac7-9cc5662213ac",
   "metadata": {},
   "outputs": [],
   "source": [
    "df = pd.read_csv(r\"C:\\Users\\aship\\school\\year3\\project-group55-project-1\\grizzlybearmortalityhistory_1976_2017.csv\")"
   ]
  },
  {
   "cell_type": "code",
   "execution_count": 23,
   "id": "297cab9d-6b9b-438a-8fea-ff8a70d59797",
   "metadata": {},
   "outputs": [
    {
     "name": "stdout",
     "output_type": "stream",
     "text": [
      "          ID  HUNT_YEAR   MU  GBPU_ID         GBPU_NAME       KILL_CODE SEX  \\\n",
      "0          1       1977  740      3.0     Finlay-Ospika     Hunter Kill   M   \n",
      "1          2       1977  201     43.0    North Cascades     Hunter Kill   M   \n",
      "2          3       1977  719      6.0              Hart     Hunter Kill   F   \n",
      "3          4       1977  514     48.0  N/A - extirpated     Hunter Kill   M   \n",
      "4          5       1977  314     43.0    North Cascades     Hunter Kill   M   \n",
      "...      ...        ...  ...      ...               ...             ...  ..   \n",
      "14109  14110       2017  502     16.0        Wells Gray  Animal Control   M   \n",
      "14110  14111       2017  515     16.0        Wells Gray     Hunter Kill   M   \n",
      "14111  14112       2017  403     45.0              Yahk  Animal Control   M   \n",
      "14112  14113       2017  403     45.0              Yahk  Animal Control   M   \n",
      "14113  14114       2017  404     45.0              Yahk      Road Kill*   M   \n",
      "\n",
      "      AGE_CLASS SPATIAL  \n",
      "0           NaN     yes  \n",
      "1           5-9     yes  \n",
      "2           NaN      no  \n",
      "3           0-2     yes  \n",
      "4           5-9     yes  \n",
      "...         ...     ...  \n",
      "14109       0-2     yes  \n",
      "14110       NaN     yes  \n",
      "14111       0-2     yes  \n",
      "14112       5-9     yes  \n",
      "14113       NaN     yes  \n",
      "\n",
      "[14114 rows x 9 columns]\n"
     ]
    }
   ],
   "source": [
    "print(df)"
   ]
  },
  {
   "cell_type": "code",
   "execution_count": 28,
   "id": "893e9b8d-ecc2-4a08-a242-5d0f8af5822c",
   "metadata": {},
   "outputs": [
    {
     "data": {
      "text/plain": [
       "2007    446\n",
       "1996    414\n",
       "1981    401\n",
       "1992    399\n",
       "1987    397\n",
       "1980    397\n",
       "1984    393\n",
       "2008    390\n",
       "1983    386\n",
       "1989    384\n",
       "2011    383\n",
       "1991    382\n",
       "1985    380\n",
       "1995    379\n",
       "2017    377\n",
       "1986    370\n",
       "1999    358\n",
       "1982    355\n",
       "2009    348\n",
       "2004    344\n",
       "1990    343\n",
       "1988    342\n",
       "1979    340\n",
       "1994    329\n",
       "2005    327\n",
       "2000    325\n",
       "2010    322\n",
       "2014    321\n",
       "1978    318\n",
       "2012    317\n",
       "2006    300\n",
       "2015    291\n",
       "2002    288\n",
       "2013    281\n",
       "1977    280\n",
       "1993    278\n",
       "2016    275\n",
       "2003    272\n",
       "1997    270\n",
       "1998    257\n",
       "1976    238\n",
       "2001    117\n",
       "Name: HUNT_YEAR, dtype: int64"
      ]
     },
     "execution_count": 28,
     "metadata": {},
     "output_type": "execute_result"
    }
   ],
   "source": [
    "df.HUNT_YEAR\n",
    "df[\"HUNT_YEAR\"].value_counts()"
   ]
  },
  {
   "cell_type": "code",
   "execution_count": 29,
   "id": "5760dece-5a89-4506-b7ac-ce5e450b2403",
   "metadata": {},
   "outputs": [
    {
     "data": {
      "text/plain": [
       "Rocky                                      1058\n",
       "Muskwa                                      846\n",
       "Finlay-Ospika                               637\n",
       "Hart                                        601\n",
       "Taku                                        572\n",
       "                                           ... \n",
       "Province                                      2\n",
       "Garibaldi-Pitt                                1\n",
       "Blackwater-West Chilcotin or Tweedsmuir       1\n",
       "Kitlope-Fiordland or Tweedsmuir               1\n",
       "Kingcome-Wakeman or Knight Blue               1\n",
       "Name: GBPU_NAME, Length: 72, dtype: int64"
      ]
     },
     "execution_count": 29,
     "metadata": {},
     "output_type": "execute_result"
    }
   ],
   "source": [
    "df.GBPU_NAME\n",
    "df[\"GBPU_NAME\"].value_counts()"
   ]
  },
  {
   "cell_type": "code",
   "execution_count": 30,
   "id": "77d781e9-5926-40e2-bd36-cd9de2487c2f",
   "metadata": {},
   "outputs": [
    {
     "data": {
      "text/plain": [
       "Hunter Kill             12254\n",
       "Animal Control           1343\n",
       "Illegal                   344\n",
       "Pick Up (pre-2004)*        86\n",
       "Road Kill*                 40\n",
       "Rail Kill*                 30\n",
       "Pick Up (post-2004)*       17\n",
       "Name: KILL_CODE, dtype: int64"
      ]
     },
     "execution_count": 30,
     "metadata": {},
     "output_type": "execute_result"
    }
   ],
   "source": [
    "df.KILL_CODE\n",
    "df[\"KILL_CODE\"].value_counts()"
   ]
  },
  {
   "cell_type": "code",
   "execution_count": 34,
   "id": "86659a89-37a5-4b08-9620-05added64510",
   "metadata": {},
   "outputs": [
    {
     "data": {
      "text/plain": [
       "  5-9      3908\n",
       " 3-4       3003\n",
       "  10-14    1872\n",
       "15+        1427\n",
       "0-2        1384\n",
       "Juvnl        71\n",
       "Adult        23\n",
       "Name: AGE_CLASS, dtype: int64"
      ]
     },
     "execution_count": 34,
     "metadata": {},
     "output_type": "execute_result"
    }
   ],
   "source": [
    "df.AGE_CLASS\n",
    "df[\"AGE_CLASS\"].value_counts()"
   ]
  },
  {
   "cell_type": "code",
   "execution_count": 35,
   "id": "bd17cd27-1e96-46ef-b505-9efa1caf98b7",
   "metadata": {},
   "outputs": [
    {
     "data": {
      "text/plain": [
       "M    9082\n",
       "F    4754\n",
       "U     278\n",
       "Name: SEX, dtype: int64"
      ]
     },
     "execution_count": 35,
     "metadata": {},
     "output_type": "execute_result"
    }
   ],
   "source": [
    "df[\"SEX\"].value_counts()"
   ]
  },
  {
   "cell_type": "code",
   "execution_count": null,
   "id": "a38f7ac4-7c06-49fa-bd87-15e5ca81a4c9",
   "metadata": {},
   "outputs": [],
   "source": []
  }
 ],
 "metadata": {
  "kernelspec": {
   "display_name": "Python 3 (ipykernel)",
   "language": "python",
   "name": "python3"
  },
  "language_info": {
   "codemirror_mode": {
    "name": "ipython",
    "version": 3
   },
   "file_extension": ".py",
   "mimetype": "text/x-python",
   "name": "python",
   "nbconvert_exporter": "python",
   "pygments_lexer": "ipython3",
   "version": "3.8.10"
  }
 },
 "nbformat": 4,
 "nbformat_minor": 5
}
